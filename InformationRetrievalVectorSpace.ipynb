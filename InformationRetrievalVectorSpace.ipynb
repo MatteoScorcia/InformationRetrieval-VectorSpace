{
 "cells": [
  {
   "cell_type": "markdown",
   "metadata": {},
   "source": [
    "# <span style='color:Blue'> Implementing a Relevance Feedback Information Retrieval System </span>"
   ]
  },
  {
   "cell_type": "code",
   "execution_count": 1,
   "metadata": {},
   "outputs": [],
   "source": [
    "import pickle\n",
    "import re\n",
    "from itertools import islice\n",
    "from functools import reduce\n",
    "from math import sqrt"
   ]
  },
  {
   "cell_type": "code",
   "execution_count": 2,
   "metadata": {},
   "outputs": [],
   "source": [
    "def loadObject(name):\n",
    "    with open('objects/' + name + '.pkl', 'rb') as infile:\n",
    "        return pickle.load(infile)"
   ]
  },
  {
   "cell_type": "code",
   "execution_count": 3,
   "metadata": {},
   "outputs": [],
   "source": [
    "class MovieDescription:\n",
    "    \n",
    "    def __init__(self,docID, title, description):\n",
    "        self.title = title\n",
    "        self.description = description\n",
    "        self.docID = docID\n",
    "        \n",
    "    def __repr__(self):\n",
    "        return self.title"
   ]
  },
  {
   "cell_type": "code",
   "execution_count": 4,
   "metadata": {},
   "outputs": [],
   "source": [
    "vectorSpace = loadObject(\"vectorSpace\")\n",
    "corpus = loadObject(\"corpus\")\n",
    "champList = loadObject(\"champList\")"
   ]
  },
  {
   "cell_type": "code",
   "execution_count": 5,
   "metadata": {},
   "outputs": [],
   "source": [
    "def normalize(text):\n",
    "    no_punctuation = re.sub(r'[^a-zA-Z\\s]+','',text)\n",
    "    downcase = no_punctuation.lower()\n",
    "    return downcase\n",
    "\n",
    "def tokenize(text):\n",
    "    text = normalize(text)\n",
    "    return list(text.split())"
   ]
  },
  {
   "cell_type": "code",
   "execution_count": 6,
   "metadata": {},
   "outputs": [],
   "source": [
    "def sortVector(vector):\n",
    "    sorted_vector = {k: v for k, v in sorted(vector.items(), key=lambda item: item[1], reverse=True)}\n",
    "    return sorted_vector\n",
    "\n",
    "def normalizeVector(vector):\n",
    "    length = sqrt(sum([x**2 for x in vector.values()]))\n",
    "    normalized = {k: tfidf/length for k, tfidf in vector.items()}\n",
    "    return normalized\n",
    "\n",
    "def sortAndNormalize(vector):\n",
    "    return sortVector(normalizeVector(vector))"
   ]
  },
  {
   "cell_type": "code",
   "execution_count": 7,
   "metadata": {},
   "outputs": [],
   "source": [
    "def queryAsVector(query):\n",
    "    query = tokenize(query)\n",
    "    query_vector = {}\n",
    "\n",
    "    for term in query: #iterate through all the query terms\n",
    "        query_vector[term] = 1\n",
    "    query_vector = normalizeVector(query_vector)\n",
    "    return query_vector"
   ]
  },
  {
   "cell_type": "code",
   "execution_count": 8,
   "metadata": {},
   "outputs": [],
   "source": [
    "def innerProduct(vectorA, vectorB):\n",
    "    setA = set(vectorA.keys())\n",
    "    setB = set(vectorB.keys())\n",
    "    product = 0\n",
    "    intersection = setA.intersection(setB)\n",
    "    \n",
    "    for term in intersection:\n",
    "        product += vectorA[term] * vectorB[term]\n",
    "    return product"
   ]
  },
  {
   "cell_type": "code",
   "execution_count": 9,
   "metadata": {},
   "outputs": [],
   "source": [
    "def docIDListToTitles(docID_list):\n",
    "    result_titles = {docID: ' '.join(corpus[docID].title) for docID in docID_list}\n",
    "    return result_titles\n",
    "\n",
    "def searchVectorSpace(query_vector, vectorSpace):\n",
    "    result_innerProduct = {}\n",
    "    for docID, current_vector in vectorSpace.items():\n",
    "        inner_product = innerProduct(query_vector, current_vector)\n",
    "        if inner_product > 0:\n",
    "            result_innerProduct[docID] = inner_product\n",
    "    result_sorted_by_innerProduct = sortVector(result_innerProduct)\n",
    "    docID_list = list(result_sorted_by_innerProduct.keys())\n",
    "    result_titles = docIDListToTitles(docID_list)\n",
    "    return result_titles"
   ]
  },
  {
   "cell_type": "code",
   "execution_count": 10,
   "metadata": {},
   "outputs": [],
   "source": [
    "def union(listA, listB):\n",
    "    setA = set(listA)\n",
    "    setB = set(listB)\n",
    "    union = setA.union(setB)\n",
    "    return list(union)\n",
    "\n",
    "def searchChampionList(query):\n",
    "    query = tokenize(query)\n",
    "    result_list = []\n",
    "    \n",
    "    for term in query:\n",
    "        result_list.append(champList[term])\n",
    "    union_result_list = reduce(union, result_list)\n",
    "    return docIDListToTitles(union_result_list)"
   ]
  },
  {
   "cell_type": "markdown",
   "metadata": {},
   "source": [
    "## Implementing Relevance Feedback -> Rocchio Algorithm!!\n",
    "- #### Reasonable values might be α = 1, β = 0.75, and γ = 0 (only positive feedback with γ = 0)"
   ]
  },
  {
   "cell_type": "code",
   "execution_count": 11,
   "metadata": {},
   "outputs": [],
   "source": [
    "def sumVector(vectorA, vectorB):\n",
    "    setA = set(vectorA.keys())\n",
    "    setB = set(vectorB.keys())\n",
    "    summation = {}\n",
    "    intersection = setA.intersection(setB)\n",
    "    union = setA.union(setB)\n",
    "    \n",
    "    for component in intersection: # sum tfidf when matching keys\n",
    "        summation[component] = vectorA[component] + vectorB[component]\n",
    "\n",
    "    for component in union - intersection: # assign the right tfidf when keys do not match\n",
    "        try:\n",
    "            summation[component] = vectorA[component]\n",
    "        except KeyError:\n",
    "            summation[component] = vectorB[component]\n",
    "    return summation"
   ]
  },
  {
   "cell_type": "code",
   "execution_count": 12,
   "metadata": {},
   "outputs": [],
   "source": [
    "def queryUpdateRocchio(query_vector, preference, vectorSpace):\n",
    "    alpha = 1\n",
    "    beta = 0.75\n",
    "\n",
    "    # calculating sum of relevant documents\n",
    "    summation = {}\n",
    "    for docID in preference:\n",
    "        summation = sumVector(summation, vectorSpace[docID])\n",
    "\n",
    "    # implementing Rocchio algorithm\n",
    "    denominator = beta * 1/abs(len(preference))\n",
    "    centroid_Dr_multiplied_by_beta = {docID: denominator * tfidf for docID, tfidf in summation.items()}\n",
    "    query_vector_multiplied_by_alpha = {docID: alpha * tfidf for docID, tfidf in query_vector.items()}\n",
    "    new_query_vector = sumVector(query_vector_multiplied_by_alpha, centroid_Dr_multiplied_by_beta)\n",
    "    return new_query_vector"
   ]
  },
  {
   "cell_type": "markdown",
   "metadata": {},
   "source": [
    "## Some Heuristic for the Relevance Feedback\n",
    "- #### At first iteration, use the Champion List to respond, if there are more than 50 results compute a search on the Vector Space instead\n",
    "##### Why? Well, while using the Champion Lists, we can't rank the results, thus the user must scan the whole list of results without a sense of ordering, maybe it's a little too messy like this. Maybe it's better to display few results but with an order by relevance -> search on the Vector Space instead\n",
    "- #### When the user express some preferences, move to the vector space and draft the query using the Rocchio Algorithm\n",
    "##### Why? Well, while using the Champion Lists, few terms -> few results. Maybe we need to have a search space wider than the union of the ChampionLists when we express a preference towards a set of documents to be more precise in the drafting of the query!"
   ]
  },
  {
   "cell_type": "markdown",
   "metadata": {},
   "source": [
    "## Workflow: \n",
    "- 1. Search for a query\n",
    "- 2. Respond to the query using Champion Lists / VectorSpace (depends on the Champion Lists result)\n",
    "- 3. Give positive feedback for some titles in the result (specifing the docIDs, separated by space)\n",
    "- 4. Use Rocchio Algorithm to draft the query from the starter point of the Vector Space\n",
    "- 5. Respond to the new query displaying only the 15 most relevant documents (just to have a nice view of the results and the cicle of iterations)\n",
    "- 6. Back to point 3. "
   ]
  },
  {
   "cell_type": "code",
   "execution_count": 13,
   "metadata": {},
   "outputs": [],
   "source": [
    "def searchVectorSpaceSliced(query_vector, vectorSpace, max_length):\n",
    "    result = searchVectorSpace(query_vector, vectorSpace)\n",
    "    result_sliced = dict(islice(result.items(), max_length))\n",
    "    return result_sliced"
   ]
  },
  {
   "cell_type": "code",
   "execution_count": 14,
   "metadata": {},
   "outputs": [
    {
     "name": "stdin",
     "output_type": "stream",
     "text": [
      "Insert free-form query: christmas murder love\n"
     ]
    },
    {
     "name": "stdout",
     "output_type": "stream",
     "text": [
      "\n",
      "docID: 5386, title: \"a lizard in a womans skin\"\n",
      "docID: 37899, title: \"christmas cupid\"\n",
      "docID: 33294, title: \"twisted desire\"\n",
      "docID: 17170, title: \"embrace me tightly\"\n",
      "docID: 35605, title: \"ek ruka hua faisla\"\n",
      "docID: 9750, title: \"santa buddies\"\n",
      "docID: 27031, title: \"west nd\"\n",
      "docID: 16665, title: \"call me claus\"\n",
      "docID: 17433, title: \"elmo saves christmas\"\n",
      "docID: 21919, title: \"down with love\"\n",
      "docID: 41760, title: \"summer wars\"\n",
      "docID: 27936, title: \"moulin rouge\"\n",
      "docID: 7202, title: \"national lampoons christmas vacation\"\n",
      "docID: 40866, title: \"minority report\"\n",
      "docID: 41256, title: \"cyrano de bergerac\"\n",
      "docID: 37033, title: \"\"\n",
      "docID: 39984, title: \"merry christmas drake josh\"\n",
      "docID: 4915, title: \"the lincoln lawyer\"\n",
      "docID: 36153, title: \"jesse stone no remorse\"\n",
      "docID: 6972, title: \"love actually\"\n",
      "docID: 14269, title: \"how the grinch stole christmas\"\n",
      "docID: 3266, title: \"the man who wasnt there\"\n",
      "docID: 9924, title: \"heman and shera a christmas special\"\n",
      "docID: 30405, title: \"beauty and the beast the enchanted christmas\"\n",
      "docID: 28870, title: \"murder at\"\n",
      "docID: 11463, title: \"one magic christmas\"\n",
      "docID: 36679, title: \"rope\"\n",
      "docID: 13643, title: \"mohabbatein\"\n",
      "docID: 29133, title: \"kadhir\"\n",
      "docID: 13390, title: \"the muppet christmas carol\"\n",
      "docID: 16334, title: \"the horsemen\"\n",
      "docID: 29903, title: \"mr brooks\"\n",
      "docID: 25556, title: \"mickeys twice upon a christmas\"\n",
      "docID: 1876, title: \"white zombie\"\n",
      "docID: 25044, title: \"angry men\"\n",
      "docID: 6231, title: \"a christmas carol\"\n",
      "docID: 38630, title: \"orange\"\n",
      "docID: 6631, title: \"shrek the halls\"\n",
      "docID: 5734, title: \"first love\"\n",
      "docID: 23658, title: \"amanda knox murder on trial in italy\"\n",
      "docID: 35307, title: \"deck the halls\"\n",
      "docID: 38891, title: \"when in rome\"\n",
      "docID: 30828, title: \"dil to pagal hai\"\n",
      "docID: 15607, title: \"all about love\"\n",
      "docID: 37369, title: \"god of love\"\n"
     ]
    },
    {
     "name": "stdin",
     "output_type": "stream",
     "text": [
      "\n",
      " Insert docIDs of relevant results \n"
     ]
    },
    {
     "name": "stdout",
     "output_type": "stream",
     "text": [
      "\n",
      " Bye bye!\n"
     ]
    }
   ],
   "source": [
    "max_length = 15\n",
    "\n",
    "query = input(\"Insert free-form query:\")\n",
    "print()\n",
    "\n",
    "# The Rocchio algorithm perform a drafting of the query in the VectorSpace, thus we need to cast our query in a vector!\n",
    "query_vector = queryAsVector(query)\n",
    "\n",
    "result = searchChampionList(query)\n",
    "\n",
    "if len(result) > 50:\n",
    "    result = searchVectorSpaceSliced(query_vector, vectorSpace, max_length)\n",
    "\n",
    "[print('docID: {}, title: \"{}\"'.format(docID, title)) for docID, title in result.items()]\n",
    "preference = input(\"\\n Insert docIDs of relevant results\").split()\n",
    "\n",
    "\n",
    "preference = [int(x) for x in preference] # just a parsing from String to Integer\n",
    "\n",
    "while preference: # while preference list is not empty\n",
    "    print()\n",
    "    new_query = queryUpdateRocchio(query_vector, preference, vectorSpace)\n",
    "    result = searchVectorSpaceSliced(new_query, vectorSpace, max_length)\n",
    "    [print('docID: {}, title: \"{}\"'.format(docID, title)) for docID, title in result.items()]\n",
    "    query_vector = new_query\n",
    "    preference = input(\"Insert docIDs of relevant results\").split()\n",
    "    \n",
    "    preference = [int(x) for x in preference]\n",
    "    \n",
    "print(\"\\n Bye bye!\")"
   ]
  },
  {
   "cell_type": "markdown",
   "metadata": {},
   "source": [
    "## Trying the pseudo-feedback\n",
    "- #### Perform the query as usual\n",
    "- #### Consider the first K retrieved documents in the ranking as relevant and perform Relevance Feedback"
   ]
  },
  {
   "cell_type": "code",
   "execution_count": 15,
   "metadata": {},
   "outputs": [],
   "source": [
    "def pseudoFeedback(query_vector, vectorSpace, max_length, K):\n",
    "    result = searchVectorSpaceSliced(query_vector, vectorSpace, K)\n",
    "    only_first_K_considered = list(result.keys())\n",
    "    preference = only_first_K_considered\n",
    "    new_query = queryUpdateRocchio(query_vector, preference, vectorSpace)\n",
    "    result = searchVectorSpaceSliced(query_vector, vectorSpace, max_length)\n",
    "    return result"
   ]
  },
  {
   "cell_type": "markdown",
   "metadata": {},
   "source": [
    "## Workflow: \n",
    "- 1. Search for a query\n",
    "- 2. Respond to the query using pseudo-feedback\n",
    "- 3. Give positive feedback for some titles in the result (specifing the docIDs, separated by space)\n",
    "- 4. Use Rocchio Algorithm to draft the query from the starter point of the Vector Space\n",
    "- 5. Respond to the new query displaying only the 15 most relevant documents (just to have a nice view of the results and the cicle of iterations)\n",
    "- 6. Back to point 3. "
   ]
  },
  {
   "cell_type": "code",
   "execution_count": 16,
   "metadata": {},
   "outputs": [
    {
     "name": "stdin",
     "output_type": "stream",
     "text": [
      "Insert free-form query: christmas murder love\n"
     ]
    },
    {
     "name": "stdout",
     "output_type": "stream",
     "text": [
      "\n",
      "docID: 2891, title: \"christmas under fire\"\n",
      "docID: 40389, title: \"a christmas carol\"\n",
      "docID: 12278, title: \"christmas doover\"\n",
      "docID: 36802, title: \"stealing christmas\"\n",
      "docID: 11832, title: \"a christmas carol\"\n",
      "docID: 7940, title: \"a carol christmas\"\n",
      "docID: 18490, title: \"mickeys magical christmas snowed in at the house of mouse\"\n",
      "docID: 2777, title: \"young pioneers christmas\"\n",
      "docID: 21176, title: \"a very christmas story\"\n",
      "docID: 39775, title: \"the christmas kid\"\n",
      "docID: 41829, title: \"the good witchs gift\"\n",
      "docID: 36378, title: \"a christmas snow\"\n",
      "docID: 5065, title: \"treevenge\"\n",
      "docID: 26991, title: \"a cosmic christmas\"\n",
      "docID: 9812, title: \"a boyfriend for christmas\"\n"
     ]
    },
    {
     "name": "stdin",
     "output_type": "stream",
     "text": [
      "\n",
      " Insert docIDs of relevant results \n"
     ]
    },
    {
     "name": "stdout",
     "output_type": "stream",
     "text": [
      "\n",
      " Bye bye!\n"
     ]
    }
   ],
   "source": [
    "max_length = 15\n",
    "K = 3\n",
    "\n",
    "query = input(\"Insert free-form query:\")\n",
    "print()\n",
    "query_vector = queryAsVector(query)\n",
    "\n",
    "result = pseudoFeedback(query_vector, vectorSpace, max_length, K)\n",
    "\n",
    "[print('docID: {}, title: \"{}\"'.format(docID, title)) for docID, title in result.items()]\n",
    "preference = input(\"\\n Insert docIDs of relevant results\").split()\n",
    "\n",
    "preference = [int(x) for x in preference] # just a parsing from String to Integer\n",
    "\n",
    "while preference: # while preference list is not empty\n",
    "    print()\n",
    "    new_query = queryUpdateRocchio(query_vector, preference, vectorSpace)\n",
    "    result = searchVectorSpaceSliced(new_query, vectorSpace, max_length)\n",
    "    [print('docID: {}, title: \"{}\"'.format(docID, title)) for docID, title in result.items()]\n",
    "    query_vector = new_query\n",
    "    preference = input(\"Insert docIDs of relevant results\").split()\n",
    "    \n",
    "    preference = [int(x) for x in preference]\n",
    "    \n",
    "print(\"\\n Bye bye!\")"
   ]
  },
  {
   "cell_type": "code",
   "execution_count": null,
   "metadata": {},
   "outputs": [],
   "source": []
  }
 ],
 "metadata": {
  "kernelspec": {
   "display_name": "Python 3",
   "language": "python",
   "name": "python3"
  },
  "language_info": {
   "codemirror_mode": {
    "name": "ipython",
    "version": 3
   },
   "file_extension": ".py",
   "mimetype": "text/x-python",
   "name": "python",
   "nbconvert_exporter": "python",
   "pygments_lexer": "ipython3",
   "version": "3.8.5"
  }
 },
 "nbformat": 4,
 "nbformat_minor": 4
}
